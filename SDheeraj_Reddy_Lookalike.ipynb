{
  "nbformat": 4,
  "nbformat_minor": 0,
  "metadata": {
    "colab": {
      "provenance": []
    },
    "kernelspec": {
      "name": "python3",
      "display_name": "Python 3"
    },
    "language_info": {
      "name": "python"
    }
  },
  "cells": [
    {
      "cell_type": "code",
      "execution_count": 1,
      "metadata": {
        "id": "j0QVoiN_JdwP"
      },
      "outputs": [],
      "source": [
        "import pandas as pd\n",
        "from sklearn.preprocessing import LabelEncoder, StandardScaler\n",
        "from sklearn.metrics.pairwise import cosine_similarity"
      ]
    },
    {
      "cell_type": "code",
      "source": [
        "customers = pd.read_csv('Customers.csv')\n",
        "products = pd.read_csv('Products.csv')\n",
        "transactions = pd.read_csv('Transactions.csv')"
      ],
      "metadata": {
        "id": "hg5RgvQVKoQ8"
      },
      "execution_count": 2,
      "outputs": []
    },
    {
      "cell_type": "code",
      "source": [
        "df = transactions.merge(customers, on='CustomerID').merge(products, on='ProductID')"
      ],
      "metadata": {
        "id": "k0SPlK86KqQ_"
      },
      "execution_count": 3,
      "outputs": []
    },
    {
      "cell_type": "code",
      "source": [
        "agg_features = df.groupby('CustomerID').agg({\n",
        "    'TotalValue': ['sum', 'mean'],\n",
        "    'Quantity': ['sum', 'mean'],\n",
        "    'TransactionDate': ['count'],\n",
        "    'Category': lambda x: x.mode()[0],\n",
        "    'Region': 'first'\n",
        "})\n",
        "agg_features.columns = ['_'.join(col) for col in agg_features.columns]\n",
        "agg_features.reset_index(inplace=True)"
      ],
      "metadata": {
        "id": "Hks593bbKs07"
      },
      "execution_count": 4,
      "outputs": []
    },
    {
      "cell_type": "code",
      "source": [
        "label_encoders = {}\n",
        "for col in ['Category_<lambda>', 'Region_first']:\n",
        "    le = LabelEncoder()\n",
        "    agg_features[col] = le.fit_transform(agg_features[col])\n",
        "    label_encoders[col] = le"
      ],
      "metadata": {
        "id": "fF9ybQXXKvPs"
      },
      "execution_count": 5,
      "outputs": []
    },
    {
      "cell_type": "code",
      "source": [
        "scaler = StandardScaler()\n",
        "numeric_cols = ['TotalValue_sum', 'TotalValue_mean', 'Quantity_sum', 'Quantity_mean', 'TransactionDate_count']\n",
        "agg_features[numeric_cols] = scaler.fit_transform(agg_features[numeric_cols])"
      ],
      "metadata": {
        "id": "NdCldIK4KxO1"
      },
      "execution_count": 6,
      "outputs": []
    },
    {
      "cell_type": "code",
      "source": [
        "feature_matrix = agg_features.set_index('CustomerID')\n",
        "similarity_matrix = cosine_similarity(feature_matrix)"
      ],
      "metadata": {
        "id": "vBB-41NlKy88"
      },
      "execution_count": 7,
      "outputs": []
    },
    {
      "cell_type": "code",
      "source": [
        "# Find top 3 similar customers for first 20 customers\n",
        "customer_ids = agg_features['CustomerID'].head(20)\n",
        "lookalike_map = {}\n",
        "for idx, customer in enumerate(customer_ids):\n",
        "    similarities = list(enumerate(similarity_matrix[idx]))\n",
        "    sorted_similarities = sorted(similarities, key=lambda x: x[1], reverse=True)[1:4]\n",
        "    lookalike_map[customer] = [(agg_features['CustomerID'].iloc[i], round(score, 2)) for i, score in sorted_similarities]\n"
      ],
      "metadata": {
        "id": "wa7Dh7y8K1Kz"
      },
      "execution_count": 8,
      "outputs": []
    },
    {
      "cell_type": "code",
      "source": [
        "lookalike_df = pd.DataFrame({\n",
        "    'CustomerID': lookalike_map.keys(),\n",
        "    'Lookalikes': [str(val) for val in lookalike_map.values()]\n",
        "})\n",
        "lookalike_df.to_csv('SDheeraj_Reddy_Lookalike.csv', index=False)"
      ],
      "metadata": {
        "id": "f_6sZkKAK455"
      },
      "execution_count": 11,
      "outputs": []
    },
    {
      "cell_type": "code",
      "source": [],
      "metadata": {
        "id": "K8XCBQnFLAke"
      },
      "execution_count": null,
      "outputs": []
    }
  ]
}